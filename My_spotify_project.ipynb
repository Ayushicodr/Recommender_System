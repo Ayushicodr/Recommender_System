{
 "cells": [
  {
   "cell_type": "markdown",
   "id": "b37e3040",
   "metadata": {},
   "source": [
    "My Spotify project"
   ]
  },
  {
   "cell_type": "code",
   "execution_count": 2,
   "id": "466a557e",
   "metadata": {},
   "outputs": [],
   "source": [
    "import pandas as pd\n",
    "import numpy as np \n"
   ]
  },
  {
   "cell_type": "code",
   "execution_count": 3,
   "id": "835903db",
   "metadata": {},
   "outputs": [
    {
     "data": {
      "text/html": [
       "<div>\n",
       "<style scoped>\n",
       "    .dataframe tbody tr th:only-of-type {\n",
       "        vertical-align: middle;\n",
       "    }\n",
       "\n",
       "    .dataframe tbody tr th {\n",
       "        vertical-align: top;\n",
       "    }\n",
       "\n",
       "    .dataframe thead th {\n",
       "        text-align: right;\n",
       "    }\n",
       "</style>\n",
       "<table border=\"1\" class=\"dataframe\">\n",
       "  <thead>\n",
       "    <tr style=\"text-align: right;\">\n",
       "      <th></th>\n",
       "      <th>track_id</th>\n",
       "      <th>track_name</th>\n",
       "      <th>track_artist</th>\n",
       "      <th>track_popularity</th>\n",
       "      <th>track_album_id</th>\n",
       "      <th>track_album_name</th>\n",
       "      <th>track_album_release_date</th>\n",
       "      <th>playlist_name</th>\n",
       "      <th>playlist_id</th>\n",
       "      <th>playlist_genre</th>\n",
       "      <th>...</th>\n",
       "      <th>key</th>\n",
       "      <th>loudness</th>\n",
       "      <th>mode</th>\n",
       "      <th>speechiness</th>\n",
       "      <th>acousticness</th>\n",
       "      <th>instrumentalness</th>\n",
       "      <th>liveness</th>\n",
       "      <th>valence</th>\n",
       "      <th>tempo</th>\n",
       "      <th>duration_ms</th>\n",
       "    </tr>\n",
       "  </thead>\n",
       "  <tbody>\n",
       "    <tr>\n",
       "      <th>0</th>\n",
       "      <td>6f807x0ima9a1j3VPbc7VN</td>\n",
       "      <td>I Don't Care (with Justin Bieber) - Loud Luxur...</td>\n",
       "      <td>Ed Sheeran</td>\n",
       "      <td>66</td>\n",
       "      <td>2oCs0DGTsRO98Gh5ZSl2Cx</td>\n",
       "      <td>I Don't Care (with Justin Bieber) [Loud Luxury...</td>\n",
       "      <td>14-06-2019</td>\n",
       "      <td>Pop Remix</td>\n",
       "      <td>37i9dQZF1DXcZDD7cfEKhW</td>\n",
       "      <td>pop</td>\n",
       "      <td>...</td>\n",
       "      <td>6</td>\n",
       "      <td>-2.634</td>\n",
       "      <td>1</td>\n",
       "      <td>0.0583</td>\n",
       "      <td>0.1020</td>\n",
       "      <td>0.000000</td>\n",
       "      <td>0.0653</td>\n",
       "      <td>0.518</td>\n",
       "      <td>122.036</td>\n",
       "      <td>194754</td>\n",
       "    </tr>\n",
       "    <tr>\n",
       "      <th>1</th>\n",
       "      <td>0r7CVbZTWZgbTCYdfa2P31</td>\n",
       "      <td>Memories - Dillon Francis Remix</td>\n",
       "      <td>Maroon 5</td>\n",
       "      <td>67</td>\n",
       "      <td>63rPSO264uRjW1X5E6cWv6</td>\n",
       "      <td>Memories (Dillon Francis Remix)</td>\n",
       "      <td>13-12-2019</td>\n",
       "      <td>Pop Remix</td>\n",
       "      <td>37i9dQZF1DXcZDD7cfEKhW</td>\n",
       "      <td>pop</td>\n",
       "      <td>...</td>\n",
       "      <td>11</td>\n",
       "      <td>-4.969</td>\n",
       "      <td>1</td>\n",
       "      <td>0.0373</td>\n",
       "      <td>0.0724</td>\n",
       "      <td>0.004210</td>\n",
       "      <td>0.3570</td>\n",
       "      <td>0.693</td>\n",
       "      <td>99.972</td>\n",
       "      <td>162600</td>\n",
       "    </tr>\n",
       "    <tr>\n",
       "      <th>2</th>\n",
       "      <td>1z1Hg7Vb0AhHDiEmnDE79l</td>\n",
       "      <td>All the Time - Don Diablo Remix</td>\n",
       "      <td>Zara Larsson</td>\n",
       "      <td>70</td>\n",
       "      <td>1HoSmj2eLcsrR0vE9gThr4</td>\n",
       "      <td>All the Time (Don Diablo Remix)</td>\n",
       "      <td>05-07-2019</td>\n",
       "      <td>Pop Remix</td>\n",
       "      <td>37i9dQZF1DXcZDD7cfEKhW</td>\n",
       "      <td>pop</td>\n",
       "      <td>...</td>\n",
       "      <td>1</td>\n",
       "      <td>-3.432</td>\n",
       "      <td>0</td>\n",
       "      <td>0.0742</td>\n",
       "      <td>0.0794</td>\n",
       "      <td>0.000023</td>\n",
       "      <td>0.1100</td>\n",
       "      <td>0.613</td>\n",
       "      <td>124.008</td>\n",
       "      <td>176616</td>\n",
       "    </tr>\n",
       "  </tbody>\n",
       "</table>\n",
       "<p>3 rows × 23 columns</p>\n",
       "</div>"
      ],
      "text/plain": [
       "                 track_id                                         track_name  \\\n",
       "0  6f807x0ima9a1j3VPbc7VN  I Don't Care (with Justin Bieber) - Loud Luxur...   \n",
       "1  0r7CVbZTWZgbTCYdfa2P31                    Memories - Dillon Francis Remix   \n",
       "2  1z1Hg7Vb0AhHDiEmnDE79l                    All the Time - Don Diablo Remix   \n",
       "\n",
       "   track_artist  track_popularity          track_album_id  \\\n",
       "0    Ed Sheeran                66  2oCs0DGTsRO98Gh5ZSl2Cx   \n",
       "1      Maroon 5                67  63rPSO264uRjW1X5E6cWv6   \n",
       "2  Zara Larsson                70  1HoSmj2eLcsrR0vE9gThr4   \n",
       "\n",
       "                                    track_album_name track_album_release_date  \\\n",
       "0  I Don't Care (with Justin Bieber) [Loud Luxury...               14-06-2019   \n",
       "1                    Memories (Dillon Francis Remix)               13-12-2019   \n",
       "2                    All the Time (Don Diablo Remix)               05-07-2019   \n",
       "\n",
       "  playlist_name             playlist_id playlist_genre  ... key  loudness  \\\n",
       "0     Pop Remix  37i9dQZF1DXcZDD7cfEKhW            pop  ...   6    -2.634   \n",
       "1     Pop Remix  37i9dQZF1DXcZDD7cfEKhW            pop  ...  11    -4.969   \n",
       "2     Pop Remix  37i9dQZF1DXcZDD7cfEKhW            pop  ...   1    -3.432   \n",
       "\n",
       "   mode  speechiness  acousticness  instrumentalness  liveness  valence  \\\n",
       "0     1       0.0583        0.1020          0.000000    0.0653    0.518   \n",
       "1     1       0.0373        0.0724          0.004210    0.3570    0.693   \n",
       "2     0       0.0742        0.0794          0.000023    0.1100    0.613   \n",
       "\n",
       "     tempo  duration_ms  \n",
       "0  122.036       194754  \n",
       "1   99.972       162600  \n",
       "2  124.008       176616  \n",
       "\n",
       "[3 rows x 23 columns]"
      ]
     },
     "execution_count": 3,
     "metadata": {},
     "output_type": "execute_result"
    }
   ],
   "source": [
    "Songs=pd.read_csv(\"spotify_songs.csv\")\n",
    "Songs.head(3)"
   ]
  },
  {
   "cell_type": "code",
   "execution_count": null,
   "id": "4d383ed6",
   "metadata": {},
   "outputs": [],
   "source": [
    "#track id\n",
    "#track name\n",
    "#track artist \n",
    "#track popularity \n",
    "#track_album_name\n",
    "#playlist Name\n",
    "#Tempo (BPM)\n",
    "#liveness\n",
    "#accoustiness\n",
    "Songs=Songs[[\"track_id\", \"track_name\", \"track_artist\", \"track_popularity\", \"track_album_name\", \"playlist_name\",\"tempo\",\"liveness\",\"acousticness\" ]]"
   ]
  },
  {
   "cell_type": "code",
   "execution_count": 5,
   "id": "fad9b859",
   "metadata": {},
   "outputs": [
    {
     "data": {
      "text/html": [
       "<div>\n",
       "<style scoped>\n",
       "    .dataframe tbody tr th:only-of-type {\n",
       "        vertical-align: middle;\n",
       "    }\n",
       "\n",
       "    .dataframe tbody tr th {\n",
       "        vertical-align: top;\n",
       "    }\n",
       "\n",
       "    .dataframe thead th {\n",
       "        text-align: right;\n",
       "    }\n",
       "</style>\n",
       "<table border=\"1\" class=\"dataframe\">\n",
       "  <thead>\n",
       "    <tr style=\"text-align: right;\">\n",
       "      <th></th>\n",
       "      <th>track_id</th>\n",
       "      <th>track_name</th>\n",
       "      <th>track_artist</th>\n",
       "      <th>track_popularity</th>\n",
       "      <th>track_album_name</th>\n",
       "      <th>playlist_name</th>\n",
       "      <th>tempo</th>\n",
       "      <th>liveness</th>\n",
       "      <th>acousticness</th>\n",
       "    </tr>\n",
       "  </thead>\n",
       "  <tbody>\n",
       "    <tr>\n",
       "      <th>0</th>\n",
       "      <td>6f807x0ima9a1j3VPbc7VN</td>\n",
       "      <td>I Don't Care (with Justin Bieber) - Loud Luxur...</td>\n",
       "      <td>Ed Sheeran</td>\n",
       "      <td>66</td>\n",
       "      <td>I Don't Care (with Justin Bieber) [Loud Luxury...</td>\n",
       "      <td>Pop Remix</td>\n",
       "      <td>122.036</td>\n",
       "      <td>0.0653</td>\n",
       "      <td>0.1020</td>\n",
       "    </tr>\n",
       "    <tr>\n",
       "      <th>1</th>\n",
       "      <td>0r7CVbZTWZgbTCYdfa2P31</td>\n",
       "      <td>Memories - Dillon Francis Remix</td>\n",
       "      <td>Maroon 5</td>\n",
       "      <td>67</td>\n",
       "      <td>Memories (Dillon Francis Remix)</td>\n",
       "      <td>Pop Remix</td>\n",
       "      <td>99.972</td>\n",
       "      <td>0.3570</td>\n",
       "      <td>0.0724</td>\n",
       "    </tr>\n",
       "  </tbody>\n",
       "</table>\n",
       "</div>"
      ],
      "text/plain": [
       "                 track_id                                         track_name  \\\n",
       "0  6f807x0ima9a1j3VPbc7VN  I Don't Care (with Justin Bieber) - Loud Luxur...   \n",
       "1  0r7CVbZTWZgbTCYdfa2P31                    Memories - Dillon Francis Remix   \n",
       "\n",
       "  track_artist  track_popularity  \\\n",
       "0   Ed Sheeran                66   \n",
       "1     Maroon 5                67   \n",
       "\n",
       "                                    track_album_name playlist_name    tempo  \\\n",
       "0  I Don't Care (with Justin Bieber) [Loud Luxury...     Pop Remix  122.036   \n",
       "1                    Memories (Dillon Francis Remix)     Pop Remix   99.972   \n",
       "\n",
       "   liveness  acousticness  \n",
       "0    0.0653        0.1020  \n",
       "1    0.3570        0.0724  "
      ]
     },
     "execution_count": 5,
     "metadata": {},
     "output_type": "execute_result"
    }
   ],
   "source": [
    "Songs.head(2)"
   ]
  },
  {
   "cell_type": "code",
   "execution_count": 6,
   "id": "a9a78358",
   "metadata": {},
   "outputs": [
    {
     "data": {
      "text/plain": [
       "track_id            0\n",
       "track_name          0\n",
       "track_artist        0\n",
       "track_popularity    0\n",
       "track_album_name    0\n",
       "playlist_name       0\n",
       "tempo               0\n",
       "liveness            0\n",
       "acousticness        0\n",
       "dtype: int64"
      ]
     },
     "execution_count": 6,
     "metadata": {},
     "output_type": "execute_result"
    }
   ],
   "source": [
    "Songs.isnull().sum()"
   ]
  },
  {
   "cell_type": "code",
   "execution_count": 7,
   "id": "03513b25",
   "metadata": {},
   "outputs": [],
   "source": [
    "Songs.dropna(axis=0, inplace=True)"
   ]
  },
  {
   "cell_type": "code",
   "execution_count": 8,
   "id": "bb89c5c9",
   "metadata": {},
   "outputs": [
    {
     "data": {
      "text/plain": [
       "track_id            0\n",
       "track_name          0\n",
       "track_artist        0\n",
       "track_popularity    0\n",
       "track_album_name    0\n",
       "playlist_name       0\n",
       "tempo               0\n",
       "liveness            0\n",
       "acousticness        0\n",
       "dtype: int64"
      ]
     },
     "execution_count": 8,
     "metadata": {},
     "output_type": "execute_result"
    }
   ],
   "source": [
    "Songs.isnull().sum()"
   ]
  },
  {
   "cell_type": "code",
   "execution_count": 9,
   "id": "733bd097",
   "metadata": {},
   "outputs": [
    {
     "data": {
      "text/html": [
       "<div>\n",
       "<style scoped>\n",
       "    .dataframe tbody tr th:only-of-type {\n",
       "        vertical-align: middle;\n",
       "    }\n",
       "\n",
       "    .dataframe tbody tr th {\n",
       "        vertical-align: top;\n",
       "    }\n",
       "\n",
       "    .dataframe thead th {\n",
       "        text-align: right;\n",
       "    }\n",
       "</style>\n",
       "<table border=\"1\" class=\"dataframe\">\n",
       "  <thead>\n",
       "    <tr style=\"text-align: right;\">\n",
       "      <th></th>\n",
       "      <th>track_id</th>\n",
       "      <th>track_name</th>\n",
       "      <th>track_artist</th>\n",
       "      <th>track_popularity</th>\n",
       "      <th>track_album_name</th>\n",
       "      <th>playlist_name</th>\n",
       "      <th>tempo</th>\n",
       "      <th>liveness</th>\n",
       "      <th>acousticness</th>\n",
       "    </tr>\n",
       "  </thead>\n",
       "  <tbody>\n",
       "    <tr>\n",
       "      <th>837</th>\n",
       "      <td>5WtbtCmPbr8a9TkFSCx7nF</td>\n",
       "      <td>Not over Yet - Perfecto Edit</td>\n",
       "      <td>Grace</td>\n",
       "      <td>20</td>\n",
       "      <td>Digging In The Crates: 1997 Vol. 1</td>\n",
       "      <td>90s Dance Hits</td>\n",
       "      <td>130.532</td>\n",
       "      <td>0.0500</td>\n",
       "      <td>0.004960</td>\n",
       "    </tr>\n",
       "    <tr>\n",
       "      <th>921</th>\n",
       "      <td>5yZpJTy5l9RllZbapSLp5Z</td>\n",
       "      <td>Walk On Water</td>\n",
       "      <td>Nadia Grace</td>\n",
       "      <td>20</td>\n",
       "      <td>Walk On Water</td>\n",
       "      <td>Christian Dance Party</td>\n",
       "      <td>147.893</td>\n",
       "      <td>0.0694</td>\n",
       "      <td>0.042500</td>\n",
       "    </tr>\n",
       "    <tr>\n",
       "      <th>962</th>\n",
       "      <td>7q8O26YXHhmaYRuHoFP8WA</td>\n",
       "      <td>Madness</td>\n",
       "      <td>Matt Strike</td>\n",
       "      <td>20</td>\n",
       "      <td>Madness</td>\n",
       "      <td>Pop Dance Hits</td>\n",
       "      <td>95.052</td>\n",
       "      <td>0.0994</td>\n",
       "      <td>0.042600</td>\n",
       "    </tr>\n",
       "    <tr>\n",
       "      <th>970</th>\n",
       "      <td>1kDoUhdifstUonl3rPqALE</td>\n",
       "      <td>Walk Away - Rich Edwards Remix</td>\n",
       "      <td>Sick Individuals</td>\n",
       "      <td>20</td>\n",
       "      <td>Walk Away (Rich Edwards Remix)</td>\n",
       "      <td>Pop Dance Hits</td>\n",
       "      <td>140.024</td>\n",
       "      <td>0.0845</td>\n",
       "      <td>0.108000</td>\n",
       "    </tr>\n",
       "    <tr>\n",
       "      <th>1006</th>\n",
       "      <td>4Wbr1qIj5QtzYETxuXQrV7</td>\n",
       "      <td>Nomite - Passenger 10 Remix Edit</td>\n",
       "      <td>Horisone</td>\n",
       "      <td>20</td>\n",
       "      <td>Raw</td>\n",
       "      <td>Pop Dance Hits</td>\n",
       "      <td>123.991</td>\n",
       "      <td>0.0669</td>\n",
       "      <td>0.007990</td>\n",
       "    </tr>\n",
       "    <tr>\n",
       "      <th>1683</th>\n",
       "      <td>6B4HHb1bgnSiNHOyub6Vqq</td>\n",
       "      <td>Love With a Motive</td>\n",
       "      <td>The Audition</td>\n",
       "      <td>20</td>\n",
       "      <td>Self-Titled Album</td>\n",
       "      <td>Pop Punk | Post-Hardcore</td>\n",
       "      <td>119.897</td>\n",
       "      <td>0.2770</td>\n",
       "      <td>0.006640</td>\n",
       "    </tr>\n",
       "    <tr>\n",
       "      <th>1762</th>\n",
       "      <td>24lMtPOCzP5g4hrg3NklLa</td>\n",
       "      <td>Just The Way You Are</td>\n",
       "      <td>Bruno Mars</td>\n",
       "      <td>20</td>\n",
       "      <td>Just The Way You Are</td>\n",
       "      <td>Post pop teen</td>\n",
       "      <td>109.012</td>\n",
       "      <td>0.0876</td>\n",
       "      <td>0.015100</td>\n",
       "    </tr>\n",
       "    <tr>\n",
       "      <th>2160</th>\n",
       "      <td>0tICYNayWWhH9GPeFrfjfD</td>\n",
       "      <td>This Girl (Kungs Vs. Cookin' On 3 Burners) - K...</td>\n",
       "      <td>Kungs</td>\n",
       "      <td>20</td>\n",
       "      <td>Layers</td>\n",
       "      <td>BALLARE - رقص</td>\n",
       "      <td>121.972</td>\n",
       "      <td>0.3170</td>\n",
       "      <td>0.080000</td>\n",
       "    </tr>\n",
       "    <tr>\n",
       "      <th>2441</th>\n",
       "      <td>5n1vrINZxJdumoHrj73FXU</td>\n",
       "      <td>parallel world</td>\n",
       "      <td>teepee</td>\n",
       "      <td>20</td>\n",
       "      <td>parallel world</td>\n",
       "      <td>Electro Pop | Electropop</td>\n",
       "      <td>126.967</td>\n",
       "      <td>0.0926</td>\n",
       "      <td>0.519000</td>\n",
       "    </tr>\n",
       "    <tr>\n",
       "      <th>2469</th>\n",
       "      <td>7r8rJ2J9JJcR7KE40PM6Pl</td>\n",
       "      <td>Paradise</td>\n",
       "      <td>So So Sun</td>\n",
       "      <td>20</td>\n",
       "      <td>Paradise</td>\n",
       "      <td>Electro Pop | Electropop</td>\n",
       "      <td>114.960</td>\n",
       "      <td>0.2340</td>\n",
       "      <td>0.004110</td>\n",
       "    </tr>\n",
       "    <tr>\n",
       "      <th>2472</th>\n",
       "      <td>5Oht1y0p7y0c1QMZfUg5Xa</td>\n",
       "      <td>One Last Time</td>\n",
       "      <td>Kirmont</td>\n",
       "      <td>20</td>\n",
       "      <td>One Last Time</td>\n",
       "      <td>Electro Pop | Electropop</td>\n",
       "      <td>149.959</td>\n",
       "      <td>0.4750</td>\n",
       "      <td>0.005230</td>\n",
       "    </tr>\n",
       "    <tr>\n",
       "      <th>2483</th>\n",
       "      <td>1xznGGDReH1oQq0xzbwXa3</td>\n",
       "      <td>One Dance</td>\n",
       "      <td>Drake</td>\n",
       "      <td>20</td>\n",
       "      <td>Views</td>\n",
       "      <td>Electropop Hits  2017-2020</td>\n",
       "      <td>103.989</td>\n",
       "      <td>0.3510</td>\n",
       "      <td>0.007840</td>\n",
       "    </tr>\n",
       "    <tr>\n",
       "      <th>2498</th>\n",
       "      <td>0tICYNayWWhH9GPeFrfjfD</td>\n",
       "      <td>This Girl (Kungs Vs. Cookin' On 3 Burners) - K...</td>\n",
       "      <td>Kungs</td>\n",
       "      <td>20</td>\n",
       "      <td>Layers</td>\n",
       "      <td>Electropop Hits  2017-2020</td>\n",
       "      <td>121.972</td>\n",
       "      <td>0.3170</td>\n",
       "      <td>0.080000</td>\n",
       "    </tr>\n",
       "    <tr>\n",
       "      <th>2559</th>\n",
       "      <td>4xlrALxuaCf9yZBHJeTSG6</td>\n",
       "      <td>Mama</td>\n",
       "      <td>Jonas Blue</td>\n",
       "      <td>20</td>\n",
       "      <td>Mama</td>\n",
       "      <td>Electropop Hits  2017-2020</td>\n",
       "      <td>104.043</td>\n",
       "      <td>0.0542</td>\n",
       "      <td>0.113000</td>\n",
       "    </tr>\n",
       "    <tr>\n",
       "      <th>2600</th>\n",
       "      <td>7wFybC8jBH3zE139OpCtpG</td>\n",
       "      <td>Lost in the Fire</td>\n",
       "      <td>Gesaffelstein</td>\n",
       "      <td>20</td>\n",
       "      <td>Lost in the Fire</td>\n",
       "      <td>Electropop 2019</td>\n",
       "      <td>101.004</td>\n",
       "      <td>0.1170</td>\n",
       "      <td>0.086300</td>\n",
       "    </tr>\n",
       "    <tr>\n",
       "      <th>2688</th>\n",
       "      <td>0uqPG793dkDDN7sCUJJIVC</td>\n",
       "      <td>Where Is The Love?</td>\n",
       "      <td>The Black Eyed Peas</td>\n",
       "      <td>20</td>\n",
       "      <td>Elephunk (International Version)</td>\n",
       "      <td>ELECTROPOP</td>\n",
       "      <td>94.059</td>\n",
       "      <td>0.1320</td>\n",
       "      <td>0.101000</td>\n",
       "    </tr>\n",
       "    <tr>\n",
       "      <th>2692</th>\n",
       "      <td>0r4SsYcwvd8URat6AS2m6f</td>\n",
       "      <td>Lush Life</td>\n",
       "      <td>Zara Larsson</td>\n",
       "      <td>20</td>\n",
       "      <td>Lush Life</td>\n",
       "      <td>ELECTROPOP</td>\n",
       "      <td>98.022</td>\n",
       "      <td>0.2110</td>\n",
       "      <td>0.133000</td>\n",
       "    </tr>\n",
       "    <tr>\n",
       "      <th>2719</th>\n",
       "      <td>1brwdYwjltrJo7WHpIvbYt</td>\n",
       "      <td>Faded</td>\n",
       "      <td>Alan Walker</td>\n",
       "      <td>20</td>\n",
       "      <td>Faded</td>\n",
       "      <td>ELECTROPOP</td>\n",
       "      <td>90.011</td>\n",
       "      <td>0.1110</td>\n",
       "      <td>0.029100</td>\n",
       "    </tr>\n",
       "    <tr>\n",
       "      <th>2889</th>\n",
       "      <td>4Wnuuio7FS5u69EYM0mD4o</td>\n",
       "      <td>When The Sun Goes Down</td>\n",
       "      <td>The.madpix.project</td>\n",
       "      <td>20</td>\n",
       "      <td>Just For A Second</td>\n",
       "      <td>Electropop - Pop</td>\n",
       "      <td>118.758</td>\n",
       "      <td>0.2710</td>\n",
       "      <td>0.085000</td>\n",
       "    </tr>\n",
       "    <tr>\n",
       "      <th>2900</th>\n",
       "      <td>2Oehrcv4Kov0SuIgWyQY9e</td>\n",
       "      <td>Demons</td>\n",
       "      <td>Imagine Dragons</td>\n",
       "      <td>20</td>\n",
       "      <td>Night Visions (Deluxe)</td>\n",
       "      <td>Electropop - Pop</td>\n",
       "      <td>179.561</td>\n",
       "      <td>0.2800</td>\n",
       "      <td>0.202000</td>\n",
       "    </tr>\n",
       "    <tr>\n",
       "      <th>2905</th>\n",
       "      <td>70cTMpcgWMcR18t9MRJFjB</td>\n",
       "      <td>I Gotta Feeling</td>\n",
       "      <td>The Black Eyed Peas</td>\n",
       "      <td>20</td>\n",
       "      <td>THE E.N.D. (THE ENERGY NEVER DIES) [Internatio...</td>\n",
       "      <td>Electropop - Pop</td>\n",
       "      <td>127.960</td>\n",
       "      <td>0.5090</td>\n",
       "      <td>0.087300</td>\n",
       "    </tr>\n",
       "    <tr>\n",
       "      <th>2996</th>\n",
       "      <td>12mGwph2YzDIlChtq3EdXP</td>\n",
       "      <td>Alone</td>\n",
       "      <td>Marshmello</td>\n",
       "      <td>20</td>\n",
       "      <td>Alone</td>\n",
       "      <td>ELECTROPOP🐹</td>\n",
       "      <td>142.011</td>\n",
       "      <td>0.1080</td>\n",
       "      <td>0.024400</td>\n",
       "    </tr>\n",
       "    <tr>\n",
       "      <th>3205</th>\n",
       "      <td>7Hqc9EvCMrnBHa1srU6kiL</td>\n",
       "      <td>Venq Tolep - Hit Club Version</td>\n",
       "      <td>Robag Wruhme</td>\n",
       "      <td>20</td>\n",
       "      <td>Venq Tolep EP</td>\n",
       "      <td>Electropop And Play</td>\n",
       "      <td>122.008</td>\n",
       "      <td>0.0515</td>\n",
       "      <td>0.022300</td>\n",
       "    </tr>\n",
       "    <tr>\n",
       "      <th>3374</th>\n",
       "      <td>2yM8HMUjwhpCMiti6rCbON</td>\n",
       "      <td>Falaz</td>\n",
       "      <td>Morbo</td>\n",
       "      <td>20</td>\n",
       "      <td>Morbo</td>\n",
       "      <td>ELECTROPOP EN ESPAÑOL</td>\n",
       "      <td>93.039</td>\n",
       "      <td>0.1090</td>\n",
       "      <td>0.095200</td>\n",
       "    </tr>\n",
       "    <tr>\n",
       "      <th>3387</th>\n",
       "      <td>1mVyW9yfPHVp8n6iDMTJyK</td>\n",
       "      <td>The Fashion Party</td>\n",
       "      <td>The Neon Judgement</td>\n",
       "      <td>20</td>\n",
       "      <td>Cold Waves And Minimal Electronics Vol. 1</td>\n",
       "      <td>Maxi Pop  GOLD (New Wave, Electropop, Synth Po...</td>\n",
       "      <td>133.762</td>\n",
       "      <td>0.0645</td>\n",
       "      <td>0.000492</td>\n",
       "    </tr>\n",
       "    <tr>\n",
       "      <th>3429</th>\n",
       "      <td>7eX6sFVLkso3diMS52w5Vj</td>\n",
       "      <td>A Mirage</td>\n",
       "      <td>The Essence</td>\n",
       "      <td>20</td>\n",
       "      <td>Nocturnal - The Best Of Midnight Music</td>\n",
       "      <td>Maxi Pop  GOLD (New Wave, Electropop, Synth Po...</td>\n",
       "      <td>117.539</td>\n",
       "      <td>0.0664</td>\n",
       "      <td>0.014800</td>\n",
       "    </tr>\n",
       "    <tr>\n",
       "      <th>3988</th>\n",
       "      <td>4YTaOCQZqdOVeigs99IntL</td>\n",
       "      <td>Find U</td>\n",
       "      <td>Raise</td>\n",
       "      <td>20</td>\n",
       "      <td>Find U</td>\n",
       "      <td>Chillout &amp; Remixes 💜</td>\n",
       "      <td>130.043</td>\n",
       "      <td>0.2330</td>\n",
       "      <td>0.291000</td>\n",
       "    </tr>\n",
       "    <tr>\n",
       "      <th>4342</th>\n",
       "      <td>7JKyC1LwBJQHeiKiTRRsMx</td>\n",
       "      <td>I'm Sorry That I Love You</td>\n",
       "      <td>Peachro</td>\n",
       "      <td>20</td>\n",
       "      <td>I'm Sorry That I Love You</td>\n",
       "      <td>The Edge of Indie Poptimism</td>\n",
       "      <td>131.557</td>\n",
       "      <td>0.0742</td>\n",
       "      <td>0.930000</td>\n",
       "    </tr>\n",
       "  </tbody>\n",
       "</table>\n",
       "</div>"
      ],
      "text/plain": [
       "                    track_id  \\\n",
       "837   5WtbtCmPbr8a9TkFSCx7nF   \n",
       "921   5yZpJTy5l9RllZbapSLp5Z   \n",
       "962   7q8O26YXHhmaYRuHoFP8WA   \n",
       "970   1kDoUhdifstUonl3rPqALE   \n",
       "1006  4Wbr1qIj5QtzYETxuXQrV7   \n",
       "1683  6B4HHb1bgnSiNHOyub6Vqq   \n",
       "1762  24lMtPOCzP5g4hrg3NklLa   \n",
       "2160  0tICYNayWWhH9GPeFrfjfD   \n",
       "2441  5n1vrINZxJdumoHrj73FXU   \n",
       "2469  7r8rJ2J9JJcR7KE40PM6Pl   \n",
       "2472  5Oht1y0p7y0c1QMZfUg5Xa   \n",
       "2483  1xznGGDReH1oQq0xzbwXa3   \n",
       "2498  0tICYNayWWhH9GPeFrfjfD   \n",
       "2559  4xlrALxuaCf9yZBHJeTSG6   \n",
       "2600  7wFybC8jBH3zE139OpCtpG   \n",
       "2688  0uqPG793dkDDN7sCUJJIVC   \n",
       "2692  0r4SsYcwvd8URat6AS2m6f   \n",
       "2719  1brwdYwjltrJo7WHpIvbYt   \n",
       "2889  4Wnuuio7FS5u69EYM0mD4o   \n",
       "2900  2Oehrcv4Kov0SuIgWyQY9e   \n",
       "2905  70cTMpcgWMcR18t9MRJFjB   \n",
       "2996  12mGwph2YzDIlChtq3EdXP   \n",
       "3205  7Hqc9EvCMrnBHa1srU6kiL   \n",
       "3374  2yM8HMUjwhpCMiti6rCbON   \n",
       "3387  1mVyW9yfPHVp8n6iDMTJyK   \n",
       "3429  7eX6sFVLkso3diMS52w5Vj   \n",
       "3988  4YTaOCQZqdOVeigs99IntL   \n",
       "4342  7JKyC1LwBJQHeiKiTRRsMx   \n",
       "\n",
       "                                             track_name         track_artist  \\\n",
       "837                        Not over Yet - Perfecto Edit                Grace   \n",
       "921                                       Walk On Water          Nadia Grace   \n",
       "962                                             Madness          Matt Strike   \n",
       "970                      Walk Away - Rich Edwards Remix     Sick Individuals   \n",
       "1006                   Nomite - Passenger 10 Remix Edit             Horisone   \n",
       "1683                                 Love With a Motive         The Audition   \n",
       "1762                               Just The Way You Are           Bruno Mars   \n",
       "2160  This Girl (Kungs Vs. Cookin' On 3 Burners) - K...                Kungs   \n",
       "2441                                     parallel world               teepee   \n",
       "2469                                           Paradise            So So Sun   \n",
       "2472                                      One Last Time              Kirmont   \n",
       "2483                                          One Dance                Drake   \n",
       "2498  This Girl (Kungs Vs. Cookin' On 3 Burners) - K...                Kungs   \n",
       "2559                                               Mama           Jonas Blue   \n",
       "2600                                   Lost in the Fire        Gesaffelstein   \n",
       "2688                                 Where Is The Love?  The Black Eyed Peas   \n",
       "2692                                          Lush Life         Zara Larsson   \n",
       "2719                                              Faded          Alan Walker   \n",
       "2889                             When The Sun Goes Down   The.madpix.project   \n",
       "2900                                             Demons      Imagine Dragons   \n",
       "2905                                    I Gotta Feeling  The Black Eyed Peas   \n",
       "2996                                              Alone           Marshmello   \n",
       "3205                      Venq Tolep - Hit Club Version         Robag Wruhme   \n",
       "3374                                              Falaz                Morbo   \n",
       "3387                                  The Fashion Party   The Neon Judgement   \n",
       "3429                                           A Mirage          The Essence   \n",
       "3988                                             Find U                Raise   \n",
       "4342                          I'm Sorry That I Love You              Peachro   \n",
       "\n",
       "      track_popularity                                   track_album_name  \\\n",
       "837                 20                 Digging In The Crates: 1997 Vol. 1   \n",
       "921                 20                                      Walk On Water   \n",
       "962                 20                                            Madness   \n",
       "970                 20                     Walk Away (Rich Edwards Remix)   \n",
       "1006                20                                                Raw   \n",
       "1683                20                                  Self-Titled Album   \n",
       "1762                20                               Just The Way You Are   \n",
       "2160                20                                             Layers   \n",
       "2441                20                                     parallel world   \n",
       "2469                20                                           Paradise   \n",
       "2472                20                                      One Last Time   \n",
       "2483                20                                              Views   \n",
       "2498                20                                             Layers   \n",
       "2559                20                                               Mama   \n",
       "2600                20                                   Lost in the Fire   \n",
       "2688                20                   Elephunk (International Version)   \n",
       "2692                20                                          Lush Life   \n",
       "2719                20                                              Faded   \n",
       "2889                20                                  Just For A Second   \n",
       "2900                20                             Night Visions (Deluxe)   \n",
       "2905                20  THE E.N.D. (THE ENERGY NEVER DIES) [Internatio...   \n",
       "2996                20                                              Alone   \n",
       "3205                20                                      Venq Tolep EP   \n",
       "3374                20                                              Morbo   \n",
       "3387                20          Cold Waves And Minimal Electronics Vol. 1   \n",
       "3429                20             Nocturnal - The Best Of Midnight Music   \n",
       "3988                20                                             Find U   \n",
       "4342                20                          I'm Sorry That I Love You   \n",
       "\n",
       "                                          playlist_name    tempo  liveness  \\\n",
       "837                                      90s Dance Hits  130.532    0.0500   \n",
       "921                               Christian Dance Party  147.893    0.0694   \n",
       "962                                      Pop Dance Hits   95.052    0.0994   \n",
       "970                                      Pop Dance Hits  140.024    0.0845   \n",
       "1006                                     Pop Dance Hits  123.991    0.0669   \n",
       "1683                           Pop Punk | Post-Hardcore  119.897    0.2770   \n",
       "1762                                      Post pop teen  109.012    0.0876   \n",
       "2160                                      BALLARE - رقص  121.972    0.3170   \n",
       "2441                           Electro Pop | Electropop  126.967    0.0926   \n",
       "2469                           Electro Pop | Electropop  114.960    0.2340   \n",
       "2472                           Electro Pop | Electropop  149.959    0.4750   \n",
       "2483                         Electropop Hits  2017-2020  103.989    0.3510   \n",
       "2498                         Electropop Hits  2017-2020  121.972    0.3170   \n",
       "2559                         Electropop Hits  2017-2020  104.043    0.0542   \n",
       "2600                                    Electropop 2019  101.004    0.1170   \n",
       "2688                                         ELECTROPOP   94.059    0.1320   \n",
       "2692                                         ELECTROPOP   98.022    0.2110   \n",
       "2719                                         ELECTROPOP   90.011    0.1110   \n",
       "2889                                   Electropop - Pop  118.758    0.2710   \n",
       "2900                                   Electropop - Pop  179.561    0.2800   \n",
       "2905                                   Electropop - Pop  127.960    0.5090   \n",
       "2996                                        ELECTROPOP🐹  142.011    0.1080   \n",
       "3205                                Electropop And Play  122.008    0.0515   \n",
       "3374                              ELECTROPOP EN ESPAÑOL   93.039    0.1090   \n",
       "3387  Maxi Pop  GOLD (New Wave, Electropop, Synth Po...  133.762    0.0645   \n",
       "3429  Maxi Pop  GOLD (New Wave, Electropop, Synth Po...  117.539    0.0664   \n",
       "3988                               Chillout & Remixes 💜  130.043    0.2330   \n",
       "4342                        The Edge of Indie Poptimism  131.557    0.0742   \n",
       "\n",
       "      acousticness  \n",
       "837       0.004960  \n",
       "921       0.042500  \n",
       "962       0.042600  \n",
       "970       0.108000  \n",
       "1006      0.007990  \n",
       "1683      0.006640  \n",
       "1762      0.015100  \n",
       "2160      0.080000  \n",
       "2441      0.519000  \n",
       "2469      0.004110  \n",
       "2472      0.005230  \n",
       "2483      0.007840  \n",
       "2498      0.080000  \n",
       "2559      0.113000  \n",
       "2600      0.086300  \n",
       "2688      0.101000  \n",
       "2692      0.133000  \n",
       "2719      0.029100  \n",
       "2889      0.085000  \n",
       "2900      0.202000  \n",
       "2905      0.087300  \n",
       "2996      0.024400  \n",
       "3205      0.022300  \n",
       "3374      0.095200  \n",
       "3387      0.000492  \n",
       "3429      0.014800  \n",
       "3988      0.291000  \n",
       "4342      0.930000  "
      ]
     },
     "execution_count": 9,
     "metadata": {},
     "output_type": "execute_result"
    }
   ],
   "source": [
    "Songs[Songs[\"track_popularity\"]==20]"
   ]
  },
  {
   "cell_type": "code",
   "execution_count": 10,
   "id": "badf18bb",
   "metadata": {},
   "outputs": [
    {
     "data": {
      "text/html": [
       "<div>\n",
       "<style scoped>\n",
       "    .dataframe tbody tr th:only-of-type {\n",
       "        vertical-align: middle;\n",
       "    }\n",
       "\n",
       "    .dataframe tbody tr th {\n",
       "        vertical-align: top;\n",
       "    }\n",
       "\n",
       "    .dataframe thead th {\n",
       "        text-align: right;\n",
       "    }\n",
       "</style>\n",
       "<table border=\"1\" class=\"dataframe\">\n",
       "  <thead>\n",
       "    <tr style=\"text-align: right;\">\n",
       "      <th></th>\n",
       "      <th>track_id</th>\n",
       "      <th>track_name</th>\n",
       "      <th>track_artist</th>\n",
       "      <th>track_popularity</th>\n",
       "      <th>track_album_name</th>\n",
       "      <th>playlist_name</th>\n",
       "      <th>tempo</th>\n",
       "      <th>liveness</th>\n",
       "      <th>acousticness</th>\n",
       "    </tr>\n",
       "  </thead>\n",
       "  <tbody>\n",
       "    <tr>\n",
       "      <th>1</th>\n",
       "      <td>0r7CVbZTWZgbTCYdfa2P31</td>\n",
       "      <td>Memories - Dillon Francis Remix</td>\n",
       "      <td>Maroon 5</td>\n",
       "      <td>67</td>\n",
       "      <td>Memories (Dillon Francis Remix)</td>\n",
       "      <td>Pop Remix</td>\n",
       "      <td>99.972</td>\n",
       "      <td>0.357</td>\n",
       "      <td>0.0724</td>\n",
       "    </tr>\n",
       "  </tbody>\n",
       "</table>\n",
       "</div>"
      ],
      "text/plain": [
       "                 track_id                       track_name track_artist  \\\n",
       "1  0r7CVbZTWZgbTCYdfa2P31  Memories - Dillon Francis Remix     Maroon 5   \n",
       "\n",
       "   track_popularity                 track_album_name playlist_name   tempo  \\\n",
       "1                67  Memories (Dillon Francis Remix)     Pop Remix  99.972   \n",
       "\n",
       "   liveness  acousticness  \n",
       "1     0.357        0.0724  "
      ]
     },
     "execution_count": 10,
     "metadata": {},
     "output_type": "execute_result"
    }
   ],
   "source": [
    "Songs[Songs[\"track_album_name\"]== 'Memories (Dillon Francis Remix)']\n"
   ]
  },
  {
   "cell_type": "code",
   "execution_count": 11,
   "id": "8543883c",
   "metadata": {},
   "outputs": [
    {
     "data": {
      "text/plain": [
       "0             Ed Sheeran\n",
       "1               Maroon 5\n",
       "2           Zara Larsson\n",
       "3       The Chainsmokers\n",
       "4          Lewis Capaldi\n",
       "              ...       \n",
       "4994              Darkly\n",
       "4995             The Him\n",
       "4996         Kasket Club\n",
       "4997        machineheart\n",
       "4998    Wonderful Humans\n",
       "Name: track_artist, Length: 4999, dtype: object"
      ]
     },
     "execution_count": 11,
     "metadata": {},
     "output_type": "execute_result"
    }
   ],
   "source": [
    "Songs[\"track_artist\"]"
   ]
  },
  {
   "cell_type": "markdown",
   "id": "7ea3103c",
   "metadata": {},
   "source": [
    "Songs[\"track_artist\"]= Songs[\"track_artist\"].apply(lambda x:\"\".join(x))"
   ]
  },
  {
   "cell_type": "code",
   "execution_count": 12,
   "id": "f00ebec0",
   "metadata": {},
   "outputs": [],
   "source": [
    "Songs[\"track_artist\"]= Songs[\"track_artist\"].apply(lambda x: x.replace(\" \",\"\") )"
   ]
  },
  {
   "cell_type": "code",
   "execution_count": 13,
   "id": "b9078881",
   "metadata": {},
   "outputs": [],
   "source": [
    "Songs[\"playlist_name\"]= Songs[\"playlist_name\"].apply(lambda x: x.replace(\" \",\"\") )"
   ]
  },
  {
   "cell_type": "code",
   "execution_count": 14,
   "id": "83a4992b",
   "metadata": {},
   "outputs": [
    {
     "data": {
      "text/plain": [
       "0              PopRemix\n",
       "1              PopRemix\n",
       "2              PopRemix\n",
       "3              PopRemix\n",
       "4              PopRemix\n",
       "             ...       \n",
       "4994    IndiePoptimism!\n",
       "4995    IndiePoptimism!\n",
       "4996    IndiePoptimism!\n",
       "4997    IndiePoptimism!\n",
       "4998    IndiePoptimism!\n",
       "Name: playlist_name, Length: 4999, dtype: object"
      ]
     },
     "execution_count": 14,
     "metadata": {},
     "output_type": "execute_result"
    }
   ],
   "source": [
    "Songs[\"playlist_name\"]"
   ]
  },
  {
   "cell_type": "code",
   "execution_count": 15,
   "id": "f86e17ef",
   "metadata": {},
   "outputs": [],
   "source": [
    "Songs[\"playlist_name\"]=Songs[\"playlist_name\"].apply(lambda x:x.split())"
   ]
  },
  {
   "cell_type": "code",
   "execution_count": 16,
   "id": "b2d1b21c",
   "metadata": {},
   "outputs": [],
   "source": [
    "Songs[\"track_artist\"]=Songs[\"track_artist\"].apply(lambda x:x.split())"
   ]
  },
  {
   "cell_type": "code",
   "execution_count": 17,
   "id": "74f29848",
   "metadata": {},
   "outputs": [],
   "source": [
    "Songs[\"track_popularity\"] = Songs[\"track_popularity\"].astype(str).apply(lambda x: x.split())\n"
   ]
  },
  {
   "cell_type": "code",
   "execution_count": 18,
   "id": "1722da9d",
   "metadata": {},
   "outputs": [],
   "source": [
    "Songs[\"tempo\"]=Songs[\"tempo\"].astype(str).apply(lambda x:x.split())"
   ]
  },
  {
   "cell_type": "code",
   "execution_count": 19,
   "id": "2211b546",
   "metadata": {},
   "outputs": [],
   "source": [
    "Songs[\"liveness\"]=Songs[\"liveness\"].astype(str).apply(lambda x:x.split())"
   ]
  },
  {
   "cell_type": "code",
   "execution_count": 20,
   "id": "b1858e84",
   "metadata": {},
   "outputs": [],
   "source": [
    "Songs[\"acousticness\"]=Songs[\"acousticness\"].astype(str).apply(lambda x:x.split())"
   ]
  },
  {
   "cell_type": "code",
   "execution_count": 21,
   "id": "76dcdda8",
   "metadata": {},
   "outputs": [
    {
     "data": {
      "text/plain": [
       "0          [0.102]\n",
       "1         [0.0724]\n",
       "2         [0.0794]\n",
       "3         [0.0287]\n",
       "4         [0.0803]\n",
       "           ...    \n",
       "4994      [0.0274]\n",
       "4995      [0.0232]\n",
       "4996      [0.0332]\n",
       "4997      [0.0119]\n",
       "4998    [0.000484]\n",
       "Name: acousticness, Length: 4999, dtype: object"
      ]
     },
     "execution_count": 21,
     "metadata": {},
     "output_type": "execute_result"
    }
   ],
   "source": [
    "Songs[\"acousticness\"]"
   ]
  },
  {
   "cell_type": "code",
   "execution_count": 22,
   "id": "e632c3f5",
   "metadata": {},
   "outputs": [],
   "source": [
    "Songs[\"keys\"]=Songs['acousticness']+Songs['liveness']+Songs['tempo']+Songs['track_popularity']+Songs['playlist_name']+Songs['track_artist']"
   ]
  },
  {
   "cell_type": "code",
   "execution_count": 23,
   "id": "d7aaf258",
   "metadata": {},
   "outputs": [],
   "source": [
    "df_songs=Songs[[\"track_id\",\"track_name\",\"keys\"]]"
   ]
  },
  {
   "cell_type": "code",
   "execution_count": 25,
   "id": "291f805b",
   "metadata": {},
   "outputs": [
    {
     "data": {
      "text/html": [
       "<div>\n",
       "<style scoped>\n",
       "    .dataframe tbody tr th:only-of-type {\n",
       "        vertical-align: middle;\n",
       "    }\n",
       "\n",
       "    .dataframe tbody tr th {\n",
       "        vertical-align: top;\n",
       "    }\n",
       "\n",
       "    .dataframe thead th {\n",
       "        text-align: right;\n",
       "    }\n",
       "</style>\n",
       "<table border=\"1\" class=\"dataframe\">\n",
       "  <thead>\n",
       "    <tr style=\"text-align: right;\">\n",
       "      <th></th>\n",
       "      <th>track_id</th>\n",
       "      <th>track_name</th>\n",
       "      <th>keys</th>\n",
       "    </tr>\n",
       "  </thead>\n",
       "  <tbody>\n",
       "    <tr>\n",
       "      <th>0</th>\n",
       "      <td>6f807x0ima9a1j3VPbc7VN</td>\n",
       "      <td>I Don't Care (with Justin Bieber) - Loud Luxur...</td>\n",
       "      <td>[0.102, 0.0653, 122.036, 66, PopRemix, EdSheeran]</td>\n",
       "    </tr>\n",
       "    <tr>\n",
       "      <th>1</th>\n",
       "      <td>0r7CVbZTWZgbTCYdfa2P31</td>\n",
       "      <td>Memories - Dillon Francis Remix</td>\n",
       "      <td>[0.0724, 0.357, 99.972, 67, PopRemix, Maroon5]</td>\n",
       "    </tr>\n",
       "  </tbody>\n",
       "</table>\n",
       "</div>"
      ],
      "text/plain": [
       "                 track_id                                         track_name  \\\n",
       "0  6f807x0ima9a1j3VPbc7VN  I Don't Care (with Justin Bieber) - Loud Luxur...   \n",
       "1  0r7CVbZTWZgbTCYdfa2P31                    Memories - Dillon Francis Remix   \n",
       "\n",
       "                                                keys  \n",
       "0  [0.102, 0.0653, 122.036, 66, PopRemix, EdSheeran]  \n",
       "1     [0.0724, 0.357, 99.972, 67, PopRemix, Maroon5]  "
      ]
     },
     "execution_count": 25,
     "metadata": {},
     "output_type": "execute_result"
    }
   ],
   "source": [
    "df_songs.head(2)"
   ]
  },
  {
   "cell_type": "code",
   "execution_count": 26,
   "id": "c66eac2e",
   "metadata": {},
   "outputs": [
    {
     "data": {
      "text/plain": [
       "['0.0567', '0.0919', '124.957', '67', 'PopRemix', 'ShawnMendes']"
      ]
     },
     "execution_count": 26,
     "metadata": {},
     "output_type": "execute_result"
    }
   ],
   "source": [
    "df_songs[\"keys\"][9]"
   ]
  },
  {
   "cell_type": "code",
   "execution_count": 27,
   "id": "e940d077",
   "metadata": {},
   "outputs": [
    {
     "data": {
      "text/plain": [
       "'All the Time - Don Diablo Remix'"
      ]
     },
     "execution_count": 27,
     "metadata": {},
     "output_type": "execute_result"
    }
   ],
   "source": [
    "Songs['track_name'][2]"
   ]
  },
  {
   "cell_type": "code",
   "execution_count": 28,
   "id": "68935a8d",
   "metadata": {},
   "outputs": [
    {
     "name": "stderr",
     "output_type": "stream",
     "text": [
      "C:\\Users\\hp\\AppData\\Local\\Temp\\ipykernel_18884\\1519414801.py:1: SettingWithCopyWarning: \n",
      "A value is trying to be set on a copy of a slice from a DataFrame.\n",
      "Try using .loc[row_indexer,col_indexer] = value instead\n",
      "\n",
      "See the caveats in the documentation: https://pandas.pydata.org/pandas-docs/stable/user_guide/indexing.html#returning-a-view-versus-a-copy\n",
      "  df_songs[\"keys\"]=df_songs[\"keys\"].apply(lambda x:\" \".join(x))\n"
     ]
    }
   ],
   "source": [
    "df_songs[\"keys\"]=df_songs[\"keys\"].apply(lambda x:\" \".join(x))"
   ]
  },
  {
   "cell_type": "code",
   "execution_count": 29,
   "id": "29138d30",
   "metadata": {},
   "outputs": [
    {
     "name": "stderr",
     "output_type": "stream",
     "text": [
      "C:\\Users\\hp\\AppData\\Local\\Temp\\ipykernel_18884\\2203751208.py:1: SettingWithCopyWarning: \n",
      "A value is trying to be set on a copy of a slice from a DataFrame.\n",
      "Try using .loc[row_indexer,col_indexer] = value instead\n",
      "\n",
      "See the caveats in the documentation: https://pandas.pydata.org/pandas-docs/stable/user_guide/indexing.html#returning-a-view-versus-a-copy\n",
      "  df_songs[\"keys\"]=df_songs[\"keys\"].apply(lambda x : x.lower())\n"
     ]
    }
   ],
   "source": [
    "df_songs[\"keys\"]=df_songs[\"keys\"].apply(lambda x : x.lower())"
   ]
  },
  {
   "cell_type": "code",
   "execution_count": 30,
   "id": "e26c3bb6",
   "metadata": {},
   "outputs": [],
   "source": [
    "from sklearn.feature_extraction.text import CountVectorizer\n",
    "cv=CountVectorizer(max_features=400)\n",
    "song_vectors=cv.fit_transform(df_songs[\"keys\"]).toarray()"
   ]
  },
  {
   "cell_type": "code",
   "execution_count": null,
   "id": "f0baa275",
   "metadata": {},
   "outputs": [
    {
     "data": {
      "text/plain": [
       "[(15, np.float64(0.5000000000000001)),\n",
       " (19, np.float64(0.4082482904638631)),\n",
       " (26, np.float64(0.4082482904638631)),\n",
       " (465, np.float64(0.4082482904638631)),\n",
       " (2859, np.float64(0.4082482904638631))]"
      ]
     },
     "execution_count": 31,
     "metadata": {},
     "output_type": "execute_result"
    }
   ],
   "source": [
    "from sklearn.metrics.pairwise import cosine_similarity\n",
    "similarity= cosine_similarity(song_vectors)\n",
    "sorted(list(enumerate(similarity[0])), reverse=True, key=lambda x:x[1])[1:6]"
   ]
  },
  {
   "cell_type": "code",
   "execution_count": 32,
   "id": "7cd6e468",
   "metadata": {},
   "outputs": [
    {
     "data": {
      "text/plain": [
       "array([1.        , 0.18257419, 0.18257419, ..., 0.        , 0.        ,\n",
       "       0.        ], shape=(4999,))"
      ]
     },
     "execution_count": 32,
     "metadata": {},
     "output_type": "execute_result"
    }
   ],
   "source": [
    "similarity[0]"
   ]
  },
  {
   "cell_type": "code",
   "execution_count": null,
   "id": "d7c23e5e",
   "metadata": {},
   "outputs": [],
   "source": [
    "def recommend(my_song):\n",
    "    song_index=df_songs[df_songs[\"track_name\"]==my_song].index[0]\n",
    "    distance=similarity[song_index]\n",
    "    movie_list=sorted(list(enumerate(similarity[song_index])), reverse=True, key=lambda x:x[1])[1:6]\n",
    "\n",
    "    for i in movie_list:\n",
    "        print(i[0])\n",
    "        print(df_songs.iloc[i[0]].track_name)"
   ]
  },
  {
   "cell_type": "code",
   "execution_count": 34,
   "id": "fd049eb5",
   "metadata": {},
   "outputs": [
    {
     "name": "stdout",
     "output_type": "stream",
     "text": [
      "46\n",
      "When It Comes To You - Benny Benassi & BB Team Remix\n",
      "65\n",
      "Talk - Disclosure VIP\n",
      "12\n",
      "Body On My\n",
      "16\n",
      "All My Friends - Eden Prince Remix\n",
      "33\n",
      "Torn - KREAM Remix\n"
     ]
    }
   ],
   "source": [
    "recommend(\"Call You Mine - Keanu Silva Remix\")"
   ]
  },
  {
   "cell_type": "code",
   "execution_count": null,
   "id": "b5468c27",
   "metadata": {},
   "outputs": [],
   "source": [
    "import pickle"
   ]
  },
  {
   "cell_type": "code",
   "execution_count": 36,
   "id": "c445e84e",
   "metadata": {},
   "outputs": [],
   "source": [
    "pickle.dump(df_songs.to_dict(), open(\"songs.pkl\",\"wb\"))"
   ]
  },
  {
   "cell_type": "code",
   "execution_count": 37,
   "id": "91878568",
   "metadata": {},
   "outputs": [
    {
     "data": {
      "text/plain": [
       "array([\"I Don't Care (with Justin Bieber) - Loud Luxury Remix\",\n",
       "       'Memories - Dillon Francis Remix',\n",
       "       'All the Time - Don Diablo Remix', ..., 'Spark', 'Circles',\n",
       "       'Edge of the Night'], shape=(4999,), dtype=object)"
      ]
     },
     "execution_count": 37,
     "metadata": {},
     "output_type": "execute_result"
    }
   ],
   "source": [
    "df_songs[\"track_name\"].values"
   ]
  },
  {
   "cell_type": "code",
   "execution_count": null,
   "id": "ea2e2e62",
   "metadata": {},
   "outputs": [],
   "source": [
    "import pickle\n",
    "# Correct way: use pickle.dump\n",
    "pickle.dump(similarity, open(\"similarity.pkl\", \"wb\"))"
   ]
  }
 ],
 "metadata": {
  "kernelspec": {
   "display_name": "Python 3",
   "language": "python",
   "name": "python3"
  },
  "language_info": {
   "codemirror_mode": {
    "name": "ipython",
    "version": 3
   },
   "file_extension": ".py",
   "mimetype": "text/x-python",
   "name": "python",
   "nbconvert_exporter": "python",
   "pygments_lexer": "ipython3",
   "version": "3.13.1"
  }
 },
 "nbformat": 4,
 "nbformat_minor": 5
}
